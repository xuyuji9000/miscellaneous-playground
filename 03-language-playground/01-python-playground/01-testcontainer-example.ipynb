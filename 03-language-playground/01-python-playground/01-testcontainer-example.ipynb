{
 "cells": [
  {
   "cell_type": "markdown",
   "id": "1a023362-5b15-4ace-b151-b6f5eb31a09c",
   "metadata": {},
   "source": [
    "Install Postgresql 11 on Mac\n",
    "\n",
    "``` shell\n",
    "brew install postgresql@11\n",
    "```"
   ]
  },
  {
   "cell_type": "code",
   "execution_count": null,
   "id": "6d65a7d9-fbb9-4536-a920-c90450bc13e4",
   "metadata": {},
   "outputs": [],
   "source": [
    "from testcontainers.postgres import PostgresContainer"
   ]
  },
  {
   "cell_type": "code",
   "execution_count": null,
   "id": "2a92a677-56bf-42f2-88de-db582d604bc6",
   "metadata": {
    "scrolled": true
   },
   "outputs": [],
   "source": [
    "# Docker Desktop is required\n",
    "\n",
    "container = PostgresContainer(\"postgres:9.5\")\n"
   ]
  },
  {
   "cell_type": "code",
   "execution_count": null,
   "id": "36475e8e-823d-4b7b-98bd-fe8e495b2bc7",
   "metadata": {},
   "outputs": [],
   "source": [
    "container.start()\n"
   ]
  },
  {
   "cell_type": "code",
   "execution_count": null,
   "id": "d2c970b1-ab9c-452b-aeea-f82c00ff6083",
   "metadata": {},
   "outputs": [],
   "source": [
    "container.stop()"
   ]
  },
  {
   "cell_type": "code",
   "execution_count": null,
   "id": "9622d3c4-8a62-4674-969f-299b3d4fc805",
   "metadata": {},
   "outputs": [],
   "source": []
  }
 ],
 "metadata": {
  "kernelspec": {
   "display_name": "Python 3 (ipykernel)",
   "language": "python",
   "name": "python3"
  },
  "language_info": {
   "codemirror_mode": {
    "name": "ipython",
    "version": 3
   },
   "file_extension": ".py",
   "mimetype": "text/x-python",
   "name": "python",
   "nbconvert_exporter": "python",
   "pygments_lexer": "ipython3",
   "version": "3.12.4"
  }
 },
 "nbformat": 4,
 "nbformat_minor": 5
}
